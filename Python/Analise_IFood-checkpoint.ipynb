{
 "cells": [
  {
   "cell_type": "code",
   "execution_count": 1,
   "id": "0f6cab65-c4d5-42d8-8136-3919a6f1ac97",
   "metadata": {},
   "outputs": [],
   "source": [
    "# Importar bibliotecas essenciais\n",
    "import pandas as pd\n",
    "import numpy as np\n",
    "from sklearn.model_selection import train_test_split\n",
    "from sklearn.linear_model import LogisticRegression\n",
    "from sklearn.metrics import accuracy_score, confusion_matrix, classification_report\n",
    "import seaborn as sns\n",
    "import matplotlib.pyplot as plt"
   ]
  },
  {
   "cell_type": "code",
   "execution_count": 2,
   "id": "116c6aca-3ec1-49d6-bcc3-b0bdac42f99e",
   "metadata": {},
   "outputs": [
    {
     "name": "stdout",
     "output_type": "stream",
     "text": [
      "   id_cliente       nome  idade genero          cidade data_adesao_clube  \\\n",
      "0           1  Cliente_1     58      F       São Paulo        2022-07-30   \n",
      "1           2  Cliente_2     25      F        Salvador        2020-05-10   \n",
      "2           3  Cliente_3     19      F       São Paulo        2021-09-29   \n",
      "3           4  Cliente_4     65      F        Salvador        2021-06-30   \n",
      "4           5  Cliente_5     35      M  Rio de Janeiro        2020-01-28   \n",
      "\n",
      "    ano  mês  mes_ano plano_clube  ...  classificacao_idade  \\\n",
      "0  2022    7  2022-07     Premium  ...                51-60   \n",
      "1  2020    5  2020-05     Premium  ...                21-30   \n",
      "2  2021    9  2021-09      Básico  ...               até 20   \n",
      "3  2021    6  2021-06      Básico  ...                  +60   \n",
      "4  2020    1  2020-01     Premium  ...                31-40   \n",
      "\n",
      "   classificação_regiao                               RFM  RFM_colocacao  \\\n",
      "0               Sudeste                Lealdade potencial              9   \n",
      "1              Nordeste                  Não classificado              0   \n",
      "2               Sudeste  Clientes que precisam de atenção              6   \n",
      "3              Nordeste                        Hibernando              2   \n",
      "4               Sudeste                  Não classificado              0   \n",
      "\n",
      "   Unnamed: 25  Ticket Médio  Unnamed: 27  mes_ano.1   LTV_medio   CAC_medio  \n",
      "0          NaN      55.44175          NaN    2020-01  145.534594   14.628199  \n",
      "1          NaN           NaN          NaN    2020-02   88.706800  112.629613  \n",
      "2          NaN           NaN          NaN    2020-03  249.487875   50.742770  \n",
      "3          NaN           NaN          NaN    2020-04  166.325250   59.904566  \n",
      "4          NaN           NaN          NaN    2020-05  207.906562   28.452661  \n",
      "\n",
      "[5 rows x 31 columns]\n",
      "<class 'pandas.core.frame.DataFrame'>\n",
      "RangeIndex: 200 entries, 0 to 199\n",
      "Data columns (total 31 columns):\n",
      " #   Column                 Non-Null Count  Dtype         \n",
      "---  ------                 --------------  -----         \n",
      " 0   id_cliente             200 non-null    int64         \n",
      " 1   nome                   200 non-null    object        \n",
      " 2   idade                  200 non-null    int64         \n",
      " 3   genero                 200 non-null    object        \n",
      " 4   cidade                 200 non-null    object        \n",
      " 5   data_adesao_clube      200 non-null    datetime64[ns]\n",
      " 6   ano                    200 non-null    int64         \n",
      " 7   mês                    200 non-null    int64         \n",
      " 8   mes_ano                200 non-null    object        \n",
      " 9   plano_clube            200 non-null    object        \n",
      " 10  tempo_vida             132 non-null    float64       \n",
      " 11  tempo_vida_dias        200 non-null    int64         \n",
      " 12  ultima_data_transacao  132 non-null    datetime64[ns]\n",
      " 13  frequencia_compras     200 non-null    int64         \n",
      " 14  LTV                    200 non-null    float64       \n",
      " 15  CAC                    200 non-null    float64       \n",
      " 16  total_valor            200 non-null    float64       \n",
      " 17  visitas                200 non-null    int64         \n",
      " 18  cancelamentos          200 non-null    int64         \n",
      " 19  genero.1               200 non-null    object        \n",
      " 20  cidade.1               200 non-null    object        \n",
      " 21  classificacao_idade    200 non-null    object        \n",
      " 22  classificação_regiao   200 non-null    object        \n",
      " 23  RFM                    200 non-null    object        \n",
      " 24  RFM_colocacao          200 non-null    int64         \n",
      " 25  Unnamed: 25            0 non-null      float64       \n",
      " 26  Ticket Médio           1 non-null      float64       \n",
      " 27  Unnamed: 27            0 non-null      float64       \n",
      " 28  mes_ano.1              33 non-null     object        \n",
      " 29  LTV_medio              33 non-null     float64       \n",
      " 30  CAC_medio              33 non-null     float64       \n",
      "dtypes: datetime64[ns](2), float64(9), int64(9), object(11)\n",
      "memory usage: 48.6+ KB\n",
      "None\n"
     ]
    }
   ],
   "source": [
    "# Carregar dados\n",
    "dados = pd.read_excel(\"C:/Users/pedro/Documents/DADOS/Analise IFood GPT/analise_logistica.xlsx\")\n",
    "\n",
    "# Exibir as primeiras linhas\n",
    "print(dados.head())\n",
    "\n",
    "# Verificar as informações gerais do dataset\n",
    "print(dados.info())"
   ]
  },
  {
   "cell_type": "code",
   "execution_count": 3,
   "id": "48b08954-3661-4841-a99b-6e1aa9533f67",
   "metadata": {},
   "outputs": [],
   "source": [
    "# Substituir valores ausentes, se necessário\n",
    "dados = dados.fillna(0)\n",
    "\n",
    "# Selecionar features para o modelo\n",
    "# Suponha que 'visitas_mensais', 'valor_total_mensal' sejam variáveis preditoras e 'cancelamentos' seja a variável alvo\n",
    "X = dados[['tempo_vida_dias','frequencia_compras']]\n",
    "y = dados['cancelamentos']"
   ]
  },
  {
   "cell_type": "code",
   "execution_count": 4,
   "id": "703490be-3c98-441d-8255-af8497baaabc",
   "metadata": {},
   "outputs": [],
   "source": [
    "# Dividir os dados em 80% treinamento e 20% teste\n",
    "X_train, X_test, y_train, y_test = train_test_split(X, y, test_size=0.2, random_state=42)"
   ]
  },
  {
   "cell_type": "code",
   "execution_count": 5,
   "id": "ecd1aaa6-ad59-4e48-bc2b-b94ac1a3f182",
   "metadata": {},
   "outputs": [],
   "source": [
    "# Criar o modelo de Regressão Logística\n",
    "modelo = LogisticRegression()\n",
    "\n",
    "# Treinar o modelo\n",
    "modelo.fit(X_train, y_train)\n",
    "\n",
    "# Fazer previsões\n",
    "y_pred = modelo.predict(X_test)"
   ]
  },
  {
   "cell_type": "code",
   "execution_count": 6,
   "id": "ecbf470d-194a-469b-ba51-2a846fdd4e80",
   "metadata": {},
   "outputs": [
    {
     "name": "stdout",
     "output_type": "stream",
     "text": [
      "Acurácia do modelo: 72.50%\n"
     ]
    },
    {
     "data": {
      "image/png": "[encoded data removed]",
      "text/plain": [
       "<Figure size 640x480 with 2 Axes>"
      ]
     },
     "metadata": {},
     "output_type": "display_data"
    },
    {
     "name": "stdout",
     "output_type": "stream",
     "text": [
      "Relatório de Classificação:\n",
      "              precision    recall  f1-score   support\n",
      "\n",
      "           0       0.72      1.00      0.84        29\n",
      "           1       0.00      0.00      0.00        11\n",
      "\n",
      "    accuracy                           0.72        40\n",
      "   macro avg       0.36      0.50      0.42        40\n",
      "weighted avg       0.53      0.72      0.61        40\n",
      "\n"
     ]
    },
    {
     "name": "stderr",
     "output_type": "stream",
     "text": [
      "C:\\Users\\pedro\\AppData\\Local\\Programs\\Python\\Python312\\Lib\\site-packages\\sklearn\\metrics\\_classification.py:1517: UndefinedMetricWarning: Precision is ill-defined and being set to 0.0 in labels with no predicted samples. Use `zero_division` parameter to control this behavior.\n",
      "  _warn_prf(average, modifier, f\"{metric.capitalize()} is\", len(result))\n",
      "C:\\Users\\pedro\\AppData\\Local\\Programs\\Python\\Python312\\Lib\\site-packages\\sklearn\\metrics\\_classification.py:1517: UndefinedMetricWarning: Precision is ill-defined and being set to 0.0 in labels with no predicted samples. Use `zero_division` parameter to control this behavior.\n",
      "  _warn_prf(average, modifier, f\"{metric.capitalize()} is\", len(result))\n",
      "C:\\Users\\pedro\\AppData\\Local\\Programs\\Python\\Python312\\Lib\\site-packages\\sklearn\\metrics\\_classification.py:1517: UndefinedMetricWarning: Precision is ill-defined and being set to 0.0 in labels with no predicted samples. Use `zero_division` parameter to control this behavior.\n",
      "  _warn_prf(average, modifier, f\"{metric.capitalize()} is\", len(result))\n"
     ]
    }
   ],
   "source": [
    "# Calcular a acurácia do modelo\n",
    "acuracia = accuracy_score(y_test, y_pred)\n",
    "print(f\"Acurácia do modelo: {acuracia * 100:.2f}%\")\n",
    "\n",
    "# Matriz de Confusão\n",
    "matriz_confusao = confusion_matrix(y_test, y_pred)\n",
    "sns.heatmap(matriz_confusao, annot=True, fmt=\"d\", cmap=\"Blues\")\n",
    "plt.xlabel(\"Previsto\")\n",
    "plt.ylabel(\"Real\")\n",
    "plt.title(\"Matriz de Confusão\")\n",
    "plt.show()\n",
    "\n",
    "# Relatório de Classificação\n",
    "print(\"Relatório de Classificação:\")\n",
    "print(classification_report(y_test, y_pred))"
   ]
  },
  {
   "cell_type": "code",
   "execution_count": null,
   "id": "d3feb5da-3b6c-4fd5-95ba-b18d16db2ff1",
   "metadata": {},
   "outputs": [],
   "source": [
    "dados_cor= dados\n",
    "#dados_cor= dados.drop(\"ultima_data_transacao\",axis=1)\n",
    "#dados_cor= dados.drop(\"data_adesao_clube\",axis=1)\n",
    "#dados_cor= dados.drop(\"nome\",axis=1)\n",
    "#dados_cor= dados.drop(\"genero\",axis=1)\n",
    "\n",
    "#somente colunas numericas\n",
    "#dados_cor = dados_cor.select_dtypes(include='number')\n",
    "\n",
    "\n",
    "#dados_cor = dados_cor.corr()\n",
    "#print(dados_cor)\n",
    "\n",
    "#plot = sns.heatmap(dados_cor, annot = True, fmt=\".1f\", linewidths=.6)\n",
    "#plot\n",
    "\n",
    "pariplot = sns.pairplot(dados, diag_kws={'edgecolor':'k'}, plot_kws={'alpha':0.5, 'edgecolor':'k'})\n",
    "print(pariplot)\n"
   ]
  },
  {
   "cell_type": "code",
   "execution_count": null,
   "id": "8303f743-5e14-4aae-9fc9-550825dbd197",
   "metadata": {},
   "outputs": [],
   "source": []
  }
 ],
 "metadata": {
  "kernelspec": {
   "display_name": "Python 3 (ipykernel)",
   "language": "python",
   "name": "python3"
  },
  "language_info": {
   "codemirror_mode": {
    "name": "ipython",
    "version": 3
   },
   "file_extension": ".py",
   "mimetype": "text/x-python",
   "name": "python",
   "nbconvert_exporter": "python",
   "pygments_lexer": "ipython3",
   "version": "3.12.4"
  }
 },
 "nbformat": 4,
 "nbformat_minor": 5
}
